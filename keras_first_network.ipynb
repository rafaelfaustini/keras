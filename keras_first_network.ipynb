{
  "nbformat": 4,
  "nbformat_minor": 0,
  "metadata": {
    "colab": {
      "name": "keras_first_network.ipynb",
      "provenance": [],
      "collapsed_sections": [],
      "include_colab_link": true
    },
    "kernelspec": {
      "name": "python3",
      "display_name": "Python 3"
    }
  },
  "cells": [
    {
      "cell_type": "markdown",
      "metadata": {
        "id": "view-in-github",
        "colab_type": "text"
      },
      "source": [
        "<a href=\"https://colab.research.google.com/github/rafaelfaustini/keras/blob/master/keras_first_network.ipynb\" target=\"_parent\"><img src=\"https://colab.research.google.com/assets/colab-badge.svg\" alt=\"Open In Colab\"/></a>"
      ]
    },
    {
      "cell_type": "code",
      "metadata": {
        "id": "nOtrFBSiSjfb",
        "colab_type": "code",
        "colab": {}
      },
      "source": [
        "from numpy import loadtxt\n",
        "from keras.models import Sequential\n",
        "from keras.layers import Dense"
      ],
      "execution_count": null,
      "outputs": []
    },
    {
      "cell_type": "code",
      "metadata": {
        "id": "83tXukLRUBGX",
        "colab_type": "code",
        "colab": {}
      },
      "source": [
        "dataset = loadtxt('pima-indians-diabetes.data.csv', delimiter=',')"
      ],
      "execution_count": null,
      "outputs": []
    },
    {
      "cell_type": "code",
      "metadata": {
        "id": "lDvbVnflU9AO",
        "colab_type": "code",
        "colab": {}
      },
      "source": [
        "x= dataset[:,0:8]\n",
        "y= dataset[:,8]"
      ],
      "execution_count": null,
      "outputs": []
    },
    {
      "cell_type": "markdown",
      "metadata": {
        "id": "AEJQ81VpWVUj",
        "colab_type": "text"
      },
      "source": [
        "Making the neural model structure"
      ]
    },
    {
      "cell_type": "code",
      "metadata": {
        "id": "UOWd6IZa-Fdt",
        "colab_type": "code",
        "colab": {}
      },
      "source": [
        "from google.colab import drive\n",
        "drive.mount('/content/drive')"
      ],
      "execution_count": null,
      "outputs": []
    },
    {
      "cell_type": "code",
      "metadata": {
        "id": "gpnxFovxVLKN",
        "colab_type": "code",
        "colab": {}
      },
      "source": [
        "model = Sequential()\n",
        "model.add(Dense(12, input_dim=8, activation='relu'))\n",
        "model.add(Dense(8, activation='relu'))\n",
        "model.add(Dense(1, activation='sigmoid'))"
      ],
      "execution_count": null,
      "outputs": []
    },
    {
      "cell_type": "markdown",
      "metadata": {
        "id": "ozUxKtahYWOm",
        "colab_type": "text"
      },
      "source": [
        "Compiling model"
      ]
    },
    {
      "cell_type": "code",
      "metadata": {
        "id": "slwV4p4GYTkX",
        "colab_type": "code",
        "colab": {}
      },
      "source": [
        "model.compile(loss='binary_crossentropy', optimizer='adam', metrics=['accuracy'])"
      ],
      "execution_count": null,
      "outputs": []
    },
    {
      "cell_type": "markdown",
      "metadata": {
        "id": "Ajjm6sfeZ_ye",
        "colab_type": "text"
      },
      "source": [
        "Training model"
      ]
    },
    {
      "cell_type": "code",
      "metadata": {
        "id": "9zUxjBH4aB6n",
        "colab_type": "code",
        "colab": {
          "base_uri": "https://localhost:8080/",
          "height": 1000
        },
        "outputId": "88d6f8ad-df1c-4a68-ef1d-fdc296a56542"
      },
      "source": [
        "model.fit(x,y, epochs=150, batch_size=10)"
      ],
      "execution_count": null,
      "outputs": [
        {
          "output_type": "stream",
          "text": [
            "Epoch 1/150\n",
            "768/768 [==============================] - 0s 569us/step - loss: 2.5517 - accuracy: 0.4570\n",
            "Epoch 2/150\n",
            "768/768 [==============================] - 0s 123us/step - loss: 0.9010 - accuracy: 0.5898\n",
            "Epoch 3/150\n",
            "768/768 [==============================] - 0s 114us/step - loss: 0.7007 - accuracy: 0.6458\n",
            "Epoch 4/150\n",
            "768/768 [==============================] - 0s 118us/step - loss: 0.6602 - accuracy: 0.6471\n",
            "Epoch 5/150\n",
            "768/768 [==============================] - 0s 115us/step - loss: 0.6413 - accuracy: 0.6602\n",
            "Epoch 6/150\n",
            "768/768 [==============================] - 0s 113us/step - loss: 0.6386 - accuracy: 0.6497\n",
            "Epoch 7/150\n",
            "768/768 [==============================] - 0s 112us/step - loss: 0.6318 - accuracy: 0.6615\n",
            "Epoch 8/150\n",
            "768/768 [==============================] - 0s 113us/step - loss: 0.6288 - accuracy: 0.6458\n",
            "Epoch 9/150\n",
            "768/768 [==============================] - 0s 115us/step - loss: 0.6278 - accuracy: 0.6576\n",
            "Epoch 10/150\n",
            "768/768 [==============================] - 0s 115us/step - loss: 0.6240 - accuracy: 0.6641\n",
            "Epoch 11/150\n",
            "768/768 [==============================] - 0s 117us/step - loss: 0.6219 - accuracy: 0.6589\n",
            "Epoch 12/150\n",
            "768/768 [==============================] - 0s 111us/step - loss: 0.6153 - accuracy: 0.6654\n",
            "Epoch 13/150\n",
            "768/768 [==============================] - 0s 117us/step - loss: 0.6144 - accuracy: 0.6680\n",
            "Epoch 14/150\n",
            "768/768 [==============================] - 0s 111us/step - loss: 0.6123 - accuracy: 0.6628\n",
            "Epoch 15/150\n",
            "768/768 [==============================] - 0s 111us/step - loss: 0.6134 - accuracy: 0.6589\n",
            "Epoch 16/150\n",
            "768/768 [==============================] - 0s 110us/step - loss: 0.6124 - accuracy: 0.6654\n",
            "Epoch 17/150\n",
            "768/768 [==============================] - 0s 114us/step - loss: 0.6092 - accuracy: 0.6602\n",
            "Epoch 18/150\n",
            "768/768 [==============================] - 0s 111us/step - loss: 0.6073 - accuracy: 0.6641\n",
            "Epoch 19/150\n",
            "768/768 [==============================] - 0s 115us/step - loss: 0.6104 - accuracy: 0.6615\n",
            "Epoch 20/150\n",
            "768/768 [==============================] - 0s 112us/step - loss: 0.6098 - accuracy: 0.6641\n",
            "Epoch 21/150\n",
            "768/768 [==============================] - 0s 108us/step - loss: 0.6090 - accuracy: 0.6615\n",
            "Epoch 22/150\n",
            "768/768 [==============================] - 0s 127us/step - loss: 0.6057 - accuracy: 0.6654\n",
            "Epoch 23/150\n",
            "768/768 [==============================] - 0s 117us/step - loss: 0.6017 - accuracy: 0.6641\n",
            "Epoch 24/150\n",
            "768/768 [==============================] - 0s 113us/step - loss: 0.6008 - accuracy: 0.6602\n",
            "Epoch 25/150\n",
            "768/768 [==============================] - 0s 112us/step - loss: 0.5997 - accuracy: 0.6641\n",
            "Epoch 26/150\n",
            "768/768 [==============================] - 0s 112us/step - loss: 0.6048 - accuracy: 0.6680\n",
            "Epoch 27/150\n",
            "768/768 [==============================] - 0s 121us/step - loss: 0.5977 - accuracy: 0.6667\n",
            "Epoch 28/150\n",
            "768/768 [==============================] - 0s 115us/step - loss: 0.5984 - accuracy: 0.6719\n",
            "Epoch 29/150\n",
            "768/768 [==============================] - 0s 113us/step - loss: 0.5959 - accuracy: 0.6719\n",
            "Epoch 30/150\n",
            "768/768 [==============================] - 0s 114us/step - loss: 0.5985 - accuracy: 0.6784\n",
            "Epoch 31/150\n",
            "768/768 [==============================] - 0s 141us/step - loss: 0.5946 - accuracy: 0.6758\n",
            "Epoch 32/150\n",
            "768/768 [==============================] - 0s 134us/step - loss: 0.5906 - accuracy: 0.6849\n",
            "Epoch 33/150\n",
            "768/768 [==============================] - 0s 137us/step - loss: 0.5925 - accuracy: 0.6732\n",
            "Epoch 34/150\n",
            "768/768 [==============================] - 0s 129us/step - loss: 0.5924 - accuracy: 0.6745\n",
            "Epoch 35/150\n",
            "768/768 [==============================] - 0s 134us/step - loss: 0.5907 - accuracy: 0.6784\n",
            "Epoch 36/150\n",
            "768/768 [==============================] - 0s 125us/step - loss: 0.5911 - accuracy: 0.6771\n",
            "Epoch 37/150\n",
            "768/768 [==============================] - 0s 110us/step - loss: 0.5858 - accuracy: 0.6849\n",
            "Epoch 38/150\n",
            "768/768 [==============================] - 0s 111us/step - loss: 0.5827 - accuracy: 0.6888\n",
            "Epoch 39/150\n",
            "768/768 [==============================] - 0s 113us/step - loss: 0.5831 - accuracy: 0.6914\n",
            "Epoch 40/150\n",
            "768/768 [==============================] - 0s 110us/step - loss: 0.5818 - accuracy: 0.6927\n",
            "Epoch 41/150\n",
            "768/768 [==============================] - 0s 110us/step - loss: 0.5770 - accuracy: 0.7083\n",
            "Epoch 42/150\n",
            "768/768 [==============================] - 0s 108us/step - loss: 0.5754 - accuracy: 0.7044\n",
            "Epoch 43/150\n",
            "768/768 [==============================] - 0s 117us/step - loss: 0.5733 - accuracy: 0.7096\n",
            "Epoch 44/150\n",
            "768/768 [==============================] - 0s 150us/step - loss: 0.5734 - accuracy: 0.7057\n",
            "Epoch 45/150\n",
            "768/768 [==============================] - 0s 132us/step - loss: 0.5709 - accuracy: 0.7083\n",
            "Epoch 46/150\n",
            "768/768 [==============================] - 0s 134us/step - loss: 0.5714 - accuracy: 0.7096\n",
            "Epoch 47/150\n",
            "768/768 [==============================] - 0s 113us/step - loss: 0.5704 - accuracy: 0.6992\n",
            "Epoch 48/150\n",
            "768/768 [==============================] - 0s 111us/step - loss: 0.5689 - accuracy: 0.7057\n",
            "Epoch 49/150\n",
            "768/768 [==============================] - 0s 113us/step - loss: 0.5681 - accuracy: 0.7044\n",
            "Epoch 50/150\n",
            "768/768 [==============================] - 0s 111us/step - loss: 0.5704 - accuracy: 0.7083\n",
            "Epoch 51/150\n",
            "768/768 [==============================] - 0s 122us/step - loss: 0.5638 - accuracy: 0.7083\n",
            "Epoch 52/150\n",
            "768/768 [==============================] - 0s 115us/step - loss: 0.5664 - accuracy: 0.7031\n",
            "Epoch 53/150\n",
            "768/768 [==============================] - 0s 116us/step - loss: 0.5607 - accuracy: 0.7109\n",
            "Epoch 54/150\n",
            "768/768 [==============================] - 0s 111us/step - loss: 0.5626 - accuracy: 0.7174\n",
            "Epoch 55/150\n",
            "768/768 [==============================] - 0s 119us/step - loss: 0.5609 - accuracy: 0.7109\n",
            "Epoch 56/150\n",
            "768/768 [==============================] - 0s 113us/step - loss: 0.5594 - accuracy: 0.7188\n",
            "Epoch 57/150\n",
            "768/768 [==============================] - 0s 113us/step - loss: 0.5614 - accuracy: 0.7031\n",
            "Epoch 58/150\n",
            "768/768 [==============================] - 0s 113us/step - loss: 0.5612 - accuracy: 0.7122\n",
            "Epoch 59/150\n",
            "768/768 [==============================] - 0s 118us/step - loss: 0.5569 - accuracy: 0.7188\n",
            "Epoch 60/150\n",
            "768/768 [==============================] - 0s 113us/step - loss: 0.5624 - accuracy: 0.7214\n",
            "Epoch 61/150\n",
            "768/768 [==============================] - 0s 111us/step - loss: 0.5549 - accuracy: 0.7188\n",
            "Epoch 62/150\n",
            "768/768 [==============================] - 0s 111us/step - loss: 0.5598 - accuracy: 0.7174\n",
            "Epoch 63/150\n",
            "768/768 [==============================] - 0s 114us/step - loss: 0.5521 - accuracy: 0.7292\n",
            "Epoch 64/150\n",
            "768/768 [==============================] - 0s 115us/step - loss: 0.5553 - accuracy: 0.7240\n",
            "Epoch 65/150\n",
            "768/768 [==============================] - 0s 109us/step - loss: 0.5560 - accuracy: 0.7266\n",
            "Epoch 66/150\n",
            "768/768 [==============================] - 0s 118us/step - loss: 0.5505 - accuracy: 0.7214\n",
            "Epoch 67/150\n",
            "768/768 [==============================] - 0s 131us/step - loss: 0.5565 - accuracy: 0.7227\n",
            "Epoch 68/150\n",
            "768/768 [==============================] - 0s 137us/step - loss: 0.5553 - accuracy: 0.7227\n",
            "Epoch 69/150\n",
            "768/768 [==============================] - 0s 110us/step - loss: 0.5507 - accuracy: 0.7174\n",
            "Epoch 70/150\n",
            "768/768 [==============================] - 0s 109us/step - loss: 0.5499 - accuracy: 0.7174\n",
            "Epoch 71/150\n",
            "768/768 [==============================] - 0s 113us/step - loss: 0.5494 - accuracy: 0.7214\n",
            "Epoch 72/150\n",
            "768/768 [==============================] - 0s 111us/step - loss: 0.5465 - accuracy: 0.7292\n",
            "Epoch 73/150\n",
            "768/768 [==============================] - 0s 111us/step - loss: 0.5464 - accuracy: 0.7148\n",
            "Epoch 74/150\n",
            "768/768 [==============================] - 0s 110us/step - loss: 0.5455 - accuracy: 0.7292\n",
            "Epoch 75/150\n",
            "768/768 [==============================] - 0s 116us/step - loss: 0.5528 - accuracy: 0.7214\n",
            "Epoch 76/150\n",
            "768/768 [==============================] - 0s 112us/step - loss: 0.5496 - accuracy: 0.7318\n",
            "Epoch 77/150\n",
            "768/768 [==============================] - 0s 115us/step - loss: 0.5499 - accuracy: 0.7279\n",
            "Epoch 78/150\n",
            "768/768 [==============================] - 0s 108us/step - loss: 0.5470 - accuracy: 0.7292\n",
            "Epoch 79/150\n",
            "768/768 [==============================] - 0s 106us/step - loss: 0.5462 - accuracy: 0.7214\n",
            "Epoch 80/150\n",
            "768/768 [==============================] - 0s 110us/step - loss: 0.5439 - accuracy: 0.7279\n",
            "Epoch 81/150\n",
            "768/768 [==============================] - 0s 120us/step - loss: 0.5447 - accuracy: 0.7266\n",
            "Epoch 82/150\n",
            "768/768 [==============================] - 0s 111us/step - loss: 0.5434 - accuracy: 0.7240\n",
            "Epoch 83/150\n",
            "768/768 [==============================] - 0s 109us/step - loss: 0.5381 - accuracy: 0.7370\n",
            "Epoch 84/150\n",
            "768/768 [==============================] - 0s 113us/step - loss: 0.5480 - accuracy: 0.7318\n",
            "Epoch 85/150\n",
            "768/768 [==============================] - 0s 115us/step - loss: 0.5420 - accuracy: 0.7292\n",
            "Epoch 86/150\n",
            "768/768 [==============================] - 0s 138us/step - loss: 0.5388 - accuracy: 0.7240\n",
            "Epoch 87/150\n",
            "768/768 [==============================] - 0s 133us/step - loss: 0.5375 - accuracy: 0.7292\n",
            "Epoch 88/150\n",
            "768/768 [==============================] - 0s 130us/step - loss: 0.5355 - accuracy: 0.7305\n",
            "Epoch 89/150\n",
            "768/768 [==============================] - 0s 111us/step - loss: 0.5394 - accuracy: 0.7266\n",
            "Epoch 90/150\n",
            "768/768 [==============================] - 0s 116us/step - loss: 0.5407 - accuracy: 0.7383\n",
            "Epoch 91/150\n",
            "768/768 [==============================] - 0s 113us/step - loss: 0.5362 - accuracy: 0.7344\n",
            "Epoch 92/150\n",
            "768/768 [==============================] - 0s 124us/step - loss: 0.5339 - accuracy: 0.7344\n",
            "Epoch 93/150\n",
            "768/768 [==============================] - 0s 107us/step - loss: 0.5335 - accuracy: 0.7344\n",
            "Epoch 94/150\n",
            "768/768 [==============================] - 0s 111us/step - loss: 0.5335 - accuracy: 0.7409\n",
            "Epoch 95/150\n",
            "768/768 [==============================] - 0s 107us/step - loss: 0.5330 - accuracy: 0.7279\n",
            "Epoch 96/150\n",
            "768/768 [==============================] - 0s 127us/step - loss: 0.5385 - accuracy: 0.7344\n",
            "Epoch 97/150\n",
            "768/768 [==============================] - 0s 115us/step - loss: 0.5374 - accuracy: 0.7422\n",
            "Epoch 98/150\n",
            "768/768 [==============================] - 0s 108us/step - loss: 0.5302 - accuracy: 0.7318\n",
            "Epoch 99/150\n",
            "768/768 [==============================] - 0s 112us/step - loss: 0.5266 - accuracy: 0.7461\n",
            "Epoch 100/150\n",
            "768/768 [==============================] - 0s 115us/step - loss: 0.5302 - accuracy: 0.7383\n",
            "Epoch 101/150\n",
            "768/768 [==============================] - 0s 111us/step - loss: 0.5284 - accuracy: 0.7409\n",
            "Epoch 102/150\n",
            "768/768 [==============================] - 0s 129us/step - loss: 0.5294 - accuracy: 0.7383\n",
            "Epoch 103/150\n",
            "768/768 [==============================] - 0s 110us/step - loss: 0.5292 - accuracy: 0.7344\n",
            "Epoch 104/150\n",
            "768/768 [==============================] - 0s 133us/step - loss: 0.5284 - accuracy: 0.7396\n",
            "Epoch 105/150\n",
            "768/768 [==============================] - 0s 130us/step - loss: 0.5290 - accuracy: 0.7331\n",
            "Epoch 106/150\n",
            "768/768 [==============================] - 0s 130us/step - loss: 0.5257 - accuracy: 0.7344\n",
            "Epoch 107/150\n",
            "768/768 [==============================] - 0s 134us/step - loss: 0.5296 - accuracy: 0.7305\n",
            "Epoch 108/150\n",
            "768/768 [==============================] - 0s 131us/step - loss: 0.5284 - accuracy: 0.7357\n",
            "Epoch 109/150\n",
            "768/768 [==============================] - 0s 128us/step - loss: 0.5244 - accuracy: 0.7292\n",
            "Epoch 110/150\n",
            "768/768 [==============================] - 0s 143us/step - loss: 0.5268 - accuracy: 0.7357\n",
            "Epoch 111/150\n",
            "768/768 [==============================] - 0s 139us/step - loss: 0.5229 - accuracy: 0.7253\n",
            "Epoch 112/150\n",
            "768/768 [==============================] - 0s 116us/step - loss: 0.5198 - accuracy: 0.7422\n",
            "Epoch 113/150\n",
            "768/768 [==============================] - 0s 107us/step - loss: 0.5246 - accuracy: 0.7500\n",
            "Epoch 114/150\n",
            "768/768 [==============================] - 0s 108us/step - loss: 0.5237 - accuracy: 0.7396\n",
            "Epoch 115/150\n",
            "768/768 [==============================] - 0s 112us/step - loss: 0.5318 - accuracy: 0.7253\n",
            "Epoch 116/150\n",
            "768/768 [==============================] - 0s 108us/step - loss: 0.5213 - accuracy: 0.7422\n",
            "Epoch 117/150\n",
            "768/768 [==============================] - 0s 108us/step - loss: 0.5167 - accuracy: 0.7500\n",
            "Epoch 118/150\n",
            "768/768 [==============================] - 0s 110us/step - loss: 0.5213 - accuracy: 0.7396\n",
            "Epoch 119/150\n",
            "768/768 [==============================] - 0s 114us/step - loss: 0.5224 - accuracy: 0.7474\n",
            "Epoch 120/150\n",
            "768/768 [==============================] - 0s 113us/step - loss: 0.5212 - accuracy: 0.7539\n",
            "Epoch 121/150\n",
            "768/768 [==============================] - 0s 119us/step - loss: 0.5207 - accuracy: 0.7409\n",
            "Epoch 122/150\n",
            "768/768 [==============================] - 0s 110us/step - loss: 0.5153 - accuracy: 0.7383\n",
            "Epoch 123/150\n",
            "768/768 [==============================] - 0s 119us/step - loss: 0.5175 - accuracy: 0.7461\n",
            "Epoch 124/150\n",
            "768/768 [==============================] - 0s 115us/step - loss: 0.5180 - accuracy: 0.7409\n",
            "Epoch 125/150\n",
            "768/768 [==============================] - 0s 110us/step - loss: 0.5243 - accuracy: 0.7435\n",
            "Epoch 126/150\n",
            "768/768 [==============================] - 0s 112us/step - loss: 0.5160 - accuracy: 0.7383\n",
            "Epoch 127/150\n",
            "768/768 [==============================] - 0s 109us/step - loss: 0.5178 - accuracy: 0.7435\n",
            "Epoch 128/150\n",
            "768/768 [==============================] - 0s 114us/step - loss: 0.5146 - accuracy: 0.7409\n",
            "Epoch 129/150\n",
            "768/768 [==============================] - 0s 111us/step - loss: 0.5141 - accuracy: 0.7435\n",
            "Epoch 130/150\n",
            "768/768 [==============================] - 0s 108us/step - loss: 0.5122 - accuracy: 0.7370\n",
            "Epoch 131/150\n",
            "768/768 [==============================] - 0s 108us/step - loss: 0.5166 - accuracy: 0.7292\n",
            "Epoch 132/150\n",
            "768/768 [==============================] - 0s 110us/step - loss: 0.5150 - accuracy: 0.7487\n",
            "Epoch 133/150\n",
            "768/768 [==============================] - 0s 116us/step - loss: 0.5164 - accuracy: 0.7448\n",
            "Epoch 134/150\n",
            "768/768 [==============================] - 0s 108us/step - loss: 0.5137 - accuracy: 0.7448\n",
            "Epoch 135/150\n",
            "768/768 [==============================] - 0s 112us/step - loss: 0.5170 - accuracy: 0.7448\n",
            "Epoch 136/150\n",
            "768/768 [==============================] - 0s 110us/step - loss: 0.5113 - accuracy: 0.7487\n",
            "Epoch 137/150\n",
            "768/768 [==============================] - 0s 117us/step - loss: 0.5106 - accuracy: 0.7487\n",
            "Epoch 138/150\n",
            "768/768 [==============================] - 0s 109us/step - loss: 0.5082 - accuracy: 0.7539\n",
            "Epoch 139/150\n",
            "768/768 [==============================] - 0s 110us/step - loss: 0.5083 - accuracy: 0.7396\n",
            "Epoch 140/150\n",
            "768/768 [==============================] - 0s 108us/step - loss: 0.5090 - accuracy: 0.7461\n",
            "Epoch 141/150\n",
            "768/768 [==============================] - 0s 111us/step - loss: 0.5116 - accuracy: 0.7383\n",
            "Epoch 142/150\n",
            "768/768 [==============================] - 0s 107us/step - loss: 0.5124 - accuracy: 0.7513\n",
            "Epoch 143/150\n",
            "768/768 [==============================] - 0s 111us/step - loss: 0.5079 - accuracy: 0.7422\n",
            "Epoch 144/150\n",
            "768/768 [==============================] - 0s 107us/step - loss: 0.5145 - accuracy: 0.7435\n",
            "Epoch 145/150\n",
            "768/768 [==============================] - 0s 125us/step - loss: 0.5065 - accuracy: 0.7487\n",
            "Epoch 146/150\n",
            "768/768 [==============================] - 0s 113us/step - loss: 0.5042 - accuracy: 0.7578\n",
            "Epoch 147/150\n",
            "768/768 [==============================] - 0s 109us/step - loss: 0.5040 - accuracy: 0.7500\n",
            "Epoch 148/150\n",
            "768/768 [==============================] - 0s 115us/step - loss: 0.5089 - accuracy: 0.7539\n",
            "Epoch 149/150\n",
            "768/768 [==============================] - 0s 112us/step - loss: 0.5051 - accuracy: 0.7604\n",
            "Epoch 150/150\n",
            "768/768 [==============================] - 0s 112us/step - loss: 0.5100 - accuracy: 0.7383\n"
          ],
          "name": "stdout"
        },
        {
          "output_type": "execute_result",
          "data": {
            "text/plain": [
              "<keras.callbacks.callbacks.History at 0x7fc0bb70b2b0>"
            ]
          },
          "metadata": {
            "tags": []
          },
          "execution_count": 16
        }
      ]
    },
    {
      "cell_type": "markdown",
      "metadata": {
        "id": "Wa-pJVPObStp",
        "colab_type": "text"
      },
      "source": [
        "Model accuracy"
      ]
    },
    {
      "cell_type": "code",
      "metadata": {
        "id": "QUeBAe4HbYWX",
        "colab_type": "code",
        "colab": {
          "base_uri": "https://localhost:8080/",
          "height": 51
        },
        "outputId": "628495a3-e9ac-437a-8ef3-111fe62cbe7c"
      },
      "source": [
        "_, accuracy = model.evaluate(x, y)\n",
        "print('Accuracy: %.2f' % (accuracy*100))"
      ],
      "execution_count": null,
      "outputs": [
        {
          "output_type": "stream",
          "text": [
            "768/768 [==============================] - 0s 24us/step\n",
            "Accuracy: 74.61\n"
          ],
          "name": "stdout"
        }
      ]
    }
  ]
}